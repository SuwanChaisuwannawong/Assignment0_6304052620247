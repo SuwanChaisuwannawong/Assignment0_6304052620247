{
  "nbformat": 4,
  "nbformat_minor": 0,
  "metadata": {
    "colab": {
      "provenance": []
    },
    "kernelspec": {
      "name": "python3",
      "display_name": "Python 3"
    },
    "language_info": {
      "name": "python"
    }
  },
  "cells": [
    {
      "cell_type": "markdown",
      "source": [
        "1. Consider a sequence of n Bernoulli trials with success probabilty p per trial. A string of consecutive successes is known as a success run. Write a function that returns the counts for runs of length k for each k observed in a dictionary"
      ],
      "metadata": {
        "id": "_6ItJyBnvwOQ"
      }
    },
    {
      "cell_type": "code",
      "source": [
        "from collections import Counter\n",
        "\n",
        "def count_runs(xs):\n",
        "    \"\"\"Count number of success runs of length k.\"\"\"\n",
        "    ys = []\n",
        "    count = 0\n",
        "    for x in xs:\n",
        "        if x == 1:\n",
        "            count += 1\n",
        "        else:\n",
        "            if count: ys.append(count)\n",
        "            count = 0\n",
        "    if count: ys.append(count)\n",
        "    return Counter(ys)"
      ],
      "metadata": {
        "id": "NYt5FXr9tth3"
      },
      "execution_count": null,
      "outputs": []
    },
    {
      "cell_type": "code",
      "source": [
        "count_runs([0, 1, 0, 1, 1, 0, 0, 0, 0, 1],)"
      ],
      "metadata": {
        "colab": {
          "base_uri": "https://localhost:8080/"
        },
        "id": "v0iBdF98t1y3",
        "outputId": "817f765d-8401-4a27-860e-a5611922d2d5"
      },
      "execution_count": null,
      "outputs": [
        {
          "output_type": "execute_result",
          "data": {
            "text/plain": [
              "Counter({1: 2, 2: 1})"
            ]
          },
          "metadata": {},
          "execution_count": 4
        }
      ]
    },
    {
      "cell_type": "code",
      "source": [
        "count_runs(np.random.randint(0,2,1000000))"
      ],
      "metadata": {
        "colab": {
          "base_uri": "https://localhost:8080/"
        },
        "id": "L6CEGO0yt-If",
        "outputId": "5ec2da9b-2086-4cb1-8eaa-0de5208a1612"
      },
      "execution_count": null,
      "outputs": [
        {
          "output_type": "execute_result",
          "data": {
            "text/plain": [
              "Counter({1: 124882,\n",
              "         6: 3859,\n",
              "         3: 31244,\n",
              "         2: 62656,\n",
              "         4: 15589,\n",
              "         5: 7800,\n",
              "         9: 514,\n",
              "         8: 959,\n",
              "         7: 1997,\n",
              "         10: 242,\n",
              "         15: 11,\n",
              "         12: 44,\n",
              "         11: 117,\n",
              "         13: 31,\n",
              "         16: 3,\n",
              "         14: 16,\n",
              "         17: 1,\n",
              "         21: 1})"
            ]
          },
          "metadata": {},
          "execution_count": 5
        }
      ]
    },
    {
      "cell_type": "markdown",
      "source": [
        "2.Continuing from Part 1, what is the probability of observing at least one run of length 5 or more when n=100 and p=0.5?. Estimate this from 100,000 simulated experiments. Is this more, less or equally likely than finding runs of length 7 or more when p=0.7 ?"
      ],
      "metadata": {
        "id": "NcQRPhiJwRle"
      }
    },
    {
      "cell_type": "code",
      "source": [
        "def run_prob(expts, n, k, p):\n",
        "    xxs = np.random.choice([0,1], (expts, n), p=(1-p, p))\n",
        "    return sum(max(d.keys()) >= k for d in map(count_runs, xxs))/expts"
      ],
      "metadata": {
        "id": "uAe-sc-fwbm3"
      },
      "execution_count": null,
      "outputs": []
    },
    {
      "cell_type": "code",
      "source": [
        "run_prob(expts=100000, n=100, k=5, p=0.5)"
      ],
      "metadata": {
        "colab": {
          "base_uri": "https://localhost:8080/"
        },
        "id": "yie42wbGwhvO",
        "outputId": "4fd1e8a2-0aa5-43f2-e76e-4aeeb059f1e1"
      },
      "execution_count": null,
      "outputs": [
        {
          "output_type": "execute_result",
          "data": {
            "text/plain": [
              "0.81062"
            ]
          },
          "metadata": {},
          "execution_count": 7
        }
      ]
    },
    {
      "cell_type": "code",
      "source": [
        "run_prob(expts=100000, n=100, k=7, p=0.7)"
      ],
      "metadata": {
        "colab": {
          "base_uri": "https://localhost:8080/"
        },
        "id": "NTy-qhLLwp24",
        "outputId": "dfa78ef6-d404-432b-de33-6131fe46dfb7"
      },
      "execution_count": null,
      "outputs": [
        {
          "output_type": "execute_result",
          "data": {
            "text/plain": [
              "0.94929"
            ]
          },
          "metadata": {},
          "execution_count": 8
        }
      ]
    }
  ]
}